{
 "cells": [
  {
   "cell_type": "code",
   "execution_count": null,
   "id": "rural-darwin",
   "metadata": {
    "tags": [
     "\"hide-input\""
    ]
   },
   "outputs": [],
   "source": [
    "from enigma.machine import EnigmaMachine"
   ]
  },
  {
   "cell_type": "markdown",
   "id": "everyday-paris",
   "metadata": {},
   "source": [
    "# CSCI3381 Final Project: Rotor Machines"
   ]
  },
  {
   "cell_type": "markdown",
   "id": "finnish-passenger",
   "metadata": {},
   "source": [
    "## Lizzie Russell and Maddie Littlejohn"
   ]
  },
  {
   "cell_type": "markdown",
   "id": "floating-gasoline",
   "metadata": {},
   "source": [
    "### What is a Rotor Machine?"
   ]
  },
  {
   "cell_type": "markdown",
   "id": "southern-smart",
   "metadata": {},
   "source": [
    "A rotor machine is an electromechanical device that is used for both encrypting and decrypting messages, \n",
    "the most famous example being the German [Enigma machine](https://en.wikipedia.org/wiki/Enigma_machine) that was used during World War II. "
   ]
  },
  {
   "cell_type": "markdown",
   "id": "moved-brick",
   "metadata": {},
   "source": [
    "### Setup\n",
    "A rotor machine typically consists of the following parts:\n",
    "- Keyboard\n",
    "    - A standard keyboard\n",
    "- Plugboard\n",
    "    - The plugboard connects two letters and swaps them.\n",
    "    - With 26 letters in the alphabet, 13 swaps were possible, but generally only 10 were used. \n",
    "- Set of rotors\n",
    "    - Each rotor has 26 positions, one for each letter of the alphabet.\n",
    "    - Generally only 3 to 4 rotors were used, but were selected from a set of 5 options. \n",
    "- Reflector\n",
    "    - The reflector sends the signal back through the rotors.\n",
    "    - The reflector makes the rotor machine self-reciprocal, which is what allows encryption and decryption to be done on the same device.\n",
    "    - The reflector also leads a critical flaw that creates the foundation for all codebreaking efforts: no letter can be encrypted to itself.\n",
    "    \n",
    "- Lamp board\n",
    "    - One lamp for every letter of the alphabet.\n"
   ]
  },
  {
   "cell_type": "markdown",
   "id": "continuing-graduate",
   "metadata": {},
   "source": [
    "### Operation\n",
    "The sender types one letter at a time into the keyboard. A signal goes through the plugboard, which switches pairs of letters around, and then goes into the rotors. Each rotor is effectively a simple substitution cipher; the output of the first rotor serves as the input for the second, and so on. The signal goes through all of the rotors in line, before reaching the reflector at the end. The reflector sends the signal back through all of the rotors in the opposite direction, and then through the plugboard again. At the end, a letter lights up on the lightboard -- this is the encrypted letter. Furthermore, after each key press, the first rotor rotates one step. After 26 key presses, the second rotor begins to step, and so on. The stepping guarantees that if you type the same letter twice in a row, they will encrypt to different letters. \n",
    "\n",
    "An operator writes down each of the letters as they appears on the lightboard and transmits the encrypted message using morse code. The receiver on the other end writes down the encrypted message and then goes to their rotor machine to decrypt it. Decryption works exactly the same way as encryption thanks to the reflector; all the receiver needs to know are the initial settings that the sender used when encrypting the message.\n"
   ]
  },
  {
   "cell_type": "markdown",
   "id": "direct-tokyo",
   "metadata": {},
   "source": [
    "### Machine Settings\n",
    "The sender and the receiver need to configure their machines with the same settings in order to be able to communicate. These settings include:\n",
    "- Rotor Settings\n",
    "    - This includes both which rotors to select from all the possible rotors, and what order to place them in within the machine.\n",
    "    \n",
    "- Plugboard Settings\n",
    "    - Which letters are paired together\n",
    "    \n",
    "- Ring Settings\n",
    "    - This is the initial position of the letters on the rotor relative to the rotor wiring.\n",
    "    \n",
    "- Starting Position\n",
    "    \n",
    "In Germany, monthly operating instructions were sent out that stipulated which rotor, plugboard, and ring settings were to be used each day. The starting position. These 3 configurations comprised the initial state of the machine. Once the operator had set their machine to the correct settings for the day, he would then type a three letter key (theoretically chosen at random) twice into them machine. He would record the output, then set his rotors to the message key he had chosen, and begin typing his message. The operator would send the two encrypted keys along with the encrypted message. The receiver would set his machine to the daily settings, type in the two encrypted keys, and the output would be the decrypted key. He would then set his rotors to the decrypted key, and begin decrypting the actual message. For example, if I were an operator and picked my key to be \"ECR\", I would type \"ECR\" twice and get an output like \"ABC XYZ\". I would then turn my rotors to \"ECR\" and begin encrypting my message. Whoever is receiving my message would begin by typing \"ABC XYZ\" and find that my key is \"ECR\". They would turn their rotors to \"ECR\" and begin decrypting my message. \n"
   ]
  },
  {
   "cell_type": "markdown",
   "id": "chicken-measurement",
   "metadata": {},
   "source": [
    "### General Security Principles \n",
    "Rotor machines effectively produce a form of a polyalphabetic substitution cipher. By having several rotors in line and adding a stepping process with each key press, a different substitution alphabet is used for each letter in the message being encrypted. It was thought that by having a purely random key sequence with no discernible patter, as in a rotor machine, would make the polyalphabetic substitution cipher completely unbreakable, because of the long period between repetitions.\n",
    "Assuming there are 3 rotors in the machine, it would take $26 * 26 * 25 = 16,900$ key presses before a repetition occurs. In practice, the operator would have to type $16,900$ letters before the encryption process repeats itself. This is far longer than any message that would ever be encrypted.\n",
    "\n",
    "Generally, there were 3 rotors selected out of a choice of 5. This leads to...\n",
    "- $5 * 4 * 3 = 60$ possible ways to select the rotors, as there are 5 options for the first slot, then four options for the second slot, and three options for the third slot. \n",
    "\n",
    "- The initial ring settings could be configured in $26 * 26 * 26 = 17,576$ different ways. \n",
    "\n",
    "Without even considering the plugboard, this already leads to $17,576*60 = 1,054,560$ different paths that a single key press could take through the machine. \n",
    "\n",
    "Additionally, with 10 leads, the plugboard could be configured in $\\frac{26!}{6!10!(2^{10})!} = 150,738,274,937,250$ different ways.\n",
    "\n",
    "Thus, adding a plugboard leads to $150,738,274,937,250 * 1,054,560 = 158,962,555,217,826,360,000$ possible ways that a single letter could be encrypted. Thus, at the time, this led to the encrypted messages being completely resistant to a brute-force attack. \n",
    "\n"
   ]
  },
  {
   "cell_type": "markdown",
   "id": "stainless-moore",
   "metadata": {},
   "source": [
    "### Cryptanalysis of Rotor Machines\n",
    "There were several inherent flaws in the Enigma machine that helped facilitate its cryptanalysis:\n",
    "- Because of the reflector, a letter could never encrypt to itself. This is the main weakness that Alan Turing exploited in his work. \n",
    "- The connections on the plugboard were reciprocal, meaning that if \"A\" were mapped to \"X\", then \"X\" would be mapped to \"A\".\n",
    "\n",
    "More importantly, there were many poor operating procedures that significantly hindered the security of the Enigma:\n",
    "- Typing the message key twice -- this helped Polish cryptanalysts in physically reconstructing the inner wiring of the rotors. \n",
    "- Stereotypical words or phrases appearing in messages. For example, a large number of message began with \"TO \". The Germans would also send out a daily weather report, so the codebreakers knew at some point in a given day, the word \"weather\" would appear in a message. Most notably, German messages would almost invariably end with or contain \"Heil Hitler\". \n",
    "- While the message keys were supposed to be chosen at random, operators would often get lazy and type the same letter three times (\"AAA\"), pick three letters that were physically near eachother on the keyboard (\"QWE\"), or use the same message key for every message they sent (for example, always using their initials). "
   ]
  },
  {
   "cell_type": "markdown",
   "id": "gorgeous-hebrew",
   "metadata": {},
   "source": [
    "### Encryption Demo"
   ]
  },
  {
   "cell_type": "code",
   "execution_count": null,
   "id": "smoking-voltage",
   "metadata": {
    "tags": [
     "\"hide-input\""
    ]
   },
   "outputs": [],
   "source": [
    "machine = EnigmaMachine.from_key_sheet(rotors = 'V II IV', reflector = 'B', ring_settings = 'L J U', plugboard_settings = 'PO ML IU KJ NH YT GB VF RE DC')\n",
    "machine.set_display('ABC')"
   ]
  },
  {
   "cell_type": "markdown",
   "id": "narrative-infection",
   "metadata": {},
   "source": [
    "With the machine set to all the correct settings for the day, the first step in encrypting a message is picking the message key and typing it twice. If I pick my key to be \"ECR\""
   ]
  },
  {
   "cell_type": "code",
   "execution_count": null,
   "id": "warming-appreciation",
   "metadata": {},
   "outputs": [],
   "source": [
    "machine.key_press('E')\n",
    "machine.key_press('C')\n",
    "machine.key_press('R')\n",
    "machine.key_press('E')\n",
    "machine.key_press('C')\n",
    "machine.key_press('R')"
   ]
  },
  {
   "cell_type": "markdown",
   "id": "committed-behavior",
   "metadata": {},
   "source": [
    "Then, the encrypted message key is \""
   ]
  },
  {
   "cell_type": "markdown",
   "id": "handmade-cathedral",
   "metadata": {},
   "source": [
    "I would then set the initial rotor positions to \"ECR\" and begin typing my message. "
   ]
  }
 ],
 "metadata": {
  "kernelspec": {
   "display_name": "Python 3",
   "language": "python",
   "name": "python3"
  }
 },
 "nbformat": 4,
 "nbformat_minor": 5
}
